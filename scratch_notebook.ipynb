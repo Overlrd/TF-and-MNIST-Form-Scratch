{
 "cells": [
  {
   "cell_type": "markdown",
   "id": "b4230caf",
   "metadata": {},
   "source": [
    "## Build Keras Model and train mnist dataset from scratch"
   ]
  },
  {
   "cell_type": "code",
   "execution_count": 38,
   "id": "f3a3b7da",
   "metadata": {},
   "outputs": [],
   "source": [
    "import tensorflow as tf\n",
    "import numpy as np"
   ]
  },
  {
   "cell_type": "code",
   "execution_count": 42,
   "id": "a5048372",
   "metadata": {},
   "outputs": [],
   "source": [
    "## I have learn that the dense layers implement the following transformation on inputs:\n",
    "    ## output = activation(dot(input , w)+b)\n",
    "## where w and b are the model parameters\n",
    "## w is the kernel attribute the bias attribute"
   ]
  },
  {
   "cell_type": "code",
   "execution_count": 16,
   "id": "8c5875ec",
   "metadata": {},
   "outputs": [],
   "source": [
    "## let's implement a layer object (NaiveDense) witch implement the function above\n",
    "class NaiveDense:\n",
    "    def __init__(self, input_size, output_size, activation):\n",
    "        self.activation = activation\n",
    "        \n",
    "        w_shape = (input_size, output_size)\n",
    "        w_initial_value = tf.random.uniform(w_shape, minval =0, maxval = 1e-1)\n",
    "        self.w = tf.Variable(w_initial_value)\n",
    "        \n",
    "        b_shape = (output_size)\n",
    "        b_initial_value = tf.zeros(b_shape)\n",
    "        self.b = tf.Variable(b_initial_value)\n",
    "    \n",
    "    def __call__(self, inputs):\n",
    "            return self.activation(tf.matmul(inputs, self.w) + self.b)\n",
    "        \n",
    "    @property\n",
    "    def weights(self):\n",
    "        return [self.w , self.b]"
   ]
  },
  {
   "cell_type": "code",
   "execution_count": 13,
   "id": "acd572a2",
   "metadata": {},
   "outputs": [],
   "source": [
    "#Now let's implement a NaiveSequential object wich embed our NaiveDense Models and \n",
    "# returns their weghts\n",
    "class NaiveSequential:\n",
    "    def __init__(self, layers):\n",
    "        self.layers = layers\n",
    "    \n",
    "    def __call__(self, inputs):\n",
    "        x = inputs\n",
    "        for layer in self.layers:\n",
    "            x = layer(x)\n",
    "        return x\n",
    "    \n",
    "    \n",
    "    @property\n",
    "    def weights(self):\n",
    "        weights = []\n",
    "        for layer in  self.layers:\n",
    "            weights += layer.weights\n",
    "        return weights"
   ]
  },
  {
   "cell_type": "code",
   "execution_count": 17,
   "id": "e11353ea",
   "metadata": {},
   "outputs": [
    {
     "name": "stderr",
     "output_type": "stream",
     "text": [
      "2022-09-28 16:53:22.638843: E tensorflow/stream_executor/cuda/cuda_driver.cc:265] failed call to cuInit: CUDA_ERROR_NO_DEVICE: no CUDA-capable device is detected\n",
      "2022-09-28 16:53:22.638959: I tensorflow/stream_executor/cuda/cuda_diagnostics.cc:156] kernel driver does not appear to be running on this host (s8d00-Lab): /proc/driver/nvidia/version does not exist\n"
     ]
    }
   ],
   "source": [
    "## Now let's build our model\n",
    "model = NaiveSequential([\n",
    "    NaiveDense(input_size = 28 * 28, output_size=512, activation=tf.nn.relu),\n",
    "    NaiveDense(input_size = 512,     output_size=10, activation=tf.nn.softmax)\n",
    "])"
   ]
  },
  {
   "cell_type": "code",
   "execution_count": 19,
   "id": "a1401b4f",
   "metadata": {},
   "outputs": [],
   "source": [
    "## assert that all two layers return two weights variable(w,b)\n",
    "assert len(model.weights) == 4"
   ]
  },
  {
   "cell_type": "code",
   "execution_count": 32,
   "id": "89f07214",
   "metadata": {},
   "outputs": [],
   "source": [
    "#let's now focus on our data \n",
    "#precisely how we are going to split in into batches for our model\n",
    "import math\n",
    "class BatchGenerator:\n",
    "    def __init__(self, images, labels, batch_size=128):\n",
    "        assert len(images) == len(labels)\n",
    "        self.index = 0\n",
    "        self.images = images\n",
    "        self.labels = labels\n",
    "        self.batch_size = batch_size\n",
    "        self.num_batches = math.ceil(len(images) / batch_size)\n",
    "        \n",
    "    def next(self):\n",
    "        images = self.images[self.index : self.index + self.batch_size]\n",
    "        labels = self.labels[self.index : self.index + self.batch_size]\n",
    "        self.index += self.batch_size\n",
    "        return images , labels\n",
    "    "
   ]
  },
  {
   "cell_type": "code",
   "execution_count": 22,
   "id": "b78ed289",
   "metadata": {},
   "outputs": [],
   "source": [
    "## Now let's implement a simple func to update batches and compute the loss\n",
    "def one_training_step(model, images_batch, labels_batch):\n",
    "    with tf.GradientTape() as tape:\n",
    "        predictions = model(images_batch)\n",
    "        per_sample_losses = tf.keras.losses.sparse_categorical_crossentropy(\n",
    "            labels_batch, predictions)\n",
    "        average_loss = tf.reduce_mean(per_sample_losses)\n",
    "    gradients = tape.gradient(average_loss, model.weights)\n",
    "    update_weights(gradients, model.weights)\n",
    "    return average_loss"
   ]
  },
  {
   "cell_type": "code",
   "execution_count": 23,
   "id": "52dc6838",
   "metadata": {},
   "outputs": [],
   "source": [
    "## Here 's the optimizer now\n",
    "## You can also implement by 'hand' an alternative to it as:\n",
    "###learning_rate = 1e-3\n",
    "###def update_weights(gradients, weights):\n",
    "###    for g, w in zip(gradients, weights):\n",
    "###        w.assign_sub(g * learning_rate)\n",
    "##I will use a keras optimizer here to \"optimize\" our results XD\n",
    "\n",
    "from tensorflow.keras import optimizers\n",
    "optimizer = optimizers.SGD(learning_rate=1e-3)\n",
    "def update_weights(gradients, weights):\n",
    "    optimizer.apply_gradients(zip(gradients, weights))\n"
   ]
  },
  {
   "cell_type": "code",
   "execution_count": 30,
   "id": "599767cc",
   "metadata": {},
   "outputs": [],
   "source": [
    "## Now let's implement the fit func for our model\n",
    "##here we will update and fit batches , get the loss and update the model weights\n",
    "def fit(model , images , labels , epochs , batch_size=128):\n",
    "    for epoch_counter in range(epochs):\n",
    "        print(f\"Epoch {epoch_counter}\")\n",
    "        batch_generator = BatchGenerator(images, labels)\n",
    "        for batch_counter in range(batch_generator.num_batches):\n",
    "            images_batch, labels_batch = batch_generator.next()\n",
    "            loss = one_training_step(model, images_batch, labels_batch)\n",
    "            if batch_counter % 100 == 0:\n",
    "                print(f\"loss at batch {batch_counter} : {loss:.2f}\")"
   ]
  },
  {
   "cell_type": "code",
   "execution_count": 28,
   "id": "ddc89119",
   "metadata": {},
   "outputs": [],
   "source": [
    "## Load and rescale the data \n",
    "from tensorflow.keras.datasets import mnist\n",
    "(train_images , train_labels), (test_images, test_labels) = mnist.load_data()\n",
    "\n",
    "train_images = train_images.reshape((60000, 28 * 28))\n",
    "train_images = train_images.astype(\"float32\") / 255\n",
    "test_images  = test_images.reshape((10000, 28 * 28))\n",
    "test_images  = test_images.astype(\"float32\") / 255"
   ]
  },
  {
   "cell_type": "code",
   "execution_count": 43,
   "id": "a952bd5b",
   "metadata": {},
   "outputs": [
    {
     "name": "stdout",
     "output_type": "stream",
     "text": [
      "Epoch 0\n",
      "loss at batch 0 : 0.63\n",
      "loss at batch 100 : 0.67\n",
      "loss at batch 200 : 0.57\n",
      "loss at batch 300 : 0.63\n",
      "loss at batch 400 : 0.70\n",
      "Epoch 1\n",
      "loss at batch 0 : 0.60\n",
      "loss at batch 100 : 0.63\n",
      "loss at batch 200 : 0.54\n",
      "loss at batch 300 : 0.60\n",
      "loss at batch 400 : 0.67\n",
      "Epoch 2\n",
      "loss at batch 0 : 0.57\n",
      "loss at batch 100 : 0.60\n",
      "loss at batch 200 : 0.51\n",
      "loss at batch 300 : 0.57\n",
      "loss at batch 400 : 0.65\n",
      "Epoch 3\n",
      "loss at batch 0 : 0.55\n",
      "loss at batch 100 : 0.57\n",
      "loss at batch 200 : 0.49\n",
      "loss at batch 300 : 0.55\n",
      "loss at batch 400 : 0.63\n",
      "Epoch 4\n",
      "loss at batch 0 : 0.52\n",
      "loss at batch 100 : 0.55\n",
      "loss at batch 200 : 0.47\n",
      "loss at batch 300 : 0.53\n",
      "loss at batch 400 : 0.61\n",
      "Epoch 5\n",
      "loss at batch 0 : 0.51\n",
      "loss at batch 100 : 0.53\n",
      "loss at batch 200 : 0.45\n",
      "loss at batch 300 : 0.51\n",
      "loss at batch 400 : 0.60\n",
      "Epoch 6\n",
      "loss at batch 0 : 0.49\n",
      "loss at batch 100 : 0.51\n",
      "loss at batch 200 : 0.43\n",
      "loss at batch 300 : 0.50\n",
      "loss at batch 400 : 0.59\n",
      "Epoch 7\n",
      "loss at batch 0 : 0.48\n",
      "loss at batch 100 : 0.49\n",
      "loss at batch 200 : 0.42\n",
      "loss at batch 300 : 0.48\n",
      "loss at batch 400 : 0.58\n",
      "Epoch 8\n",
      "loss at batch 0 : 0.46\n",
      "loss at batch 100 : 0.48\n",
      "loss at batch 200 : 0.40\n",
      "loss at batch 300 : 0.47\n",
      "loss at batch 400 : 0.57\n",
      "Epoch 9\n",
      "loss at batch 0 : 0.45\n",
      "loss at batch 100 : 0.46\n",
      "loss at batch 200 : 0.39\n",
      "loss at batch 300 : 0.46\n",
      "loss at batch 400 : 0.56\n"
     ]
    }
   ],
   "source": [
    "## start the training\n",
    "history = fit(model, train_images, train_labels, epochs=10, batch_size=128)"
   ]
  },
  {
   "cell_type": "code",
   "execution_count": 34,
   "id": "cfd36e7f",
   "metadata": {},
   "outputs": [],
   "source": [
    "#let's predict the test set\n",
    "predictions = model(test_images)"
   ]
  },
  {
   "cell_type": "code",
   "execution_count": 41,
   "id": "48e3a65f",
   "metadata": {},
   "outputs": [
    {
     "name": "stdout",
     "output_type": "stream",
     "text": [
      "Accuracy: 0.81\n"
     ]
    }
   ],
   "source": [
    "## Now let's see how accurate our model was\n",
    "#predictions = predictions.numpy()\n",
    "predicted_labels = np.argmax(predictions, axis=1)\n",
    "matches = predicted_labels == test_labels\n",
    "print(f\"Accuracy: {matches.mean():.2f}\")"
   ]
  },
  {
   "cell_type": "code",
   "execution_count": null,
   "id": "e06d4850",
   "metadata": {},
   "outputs": [],
   "source": []
  }
 ],
 "metadata": {
  "kernelspec": {
   "display_name": "Python 3 (ipykernel)",
   "language": "python",
   "name": "python3"
  },
  "language_info": {
   "codemirror_mode": {
    "name": "ipython",
    "version": 3
   },
   "file_extension": ".py",
   "mimetype": "text/x-python",
   "name": "python",
   "nbconvert_exporter": "python",
   "pygments_lexer": "ipython3",
   "version": "3.10.6"
  }
 },
 "nbformat": 4,
 "nbformat_minor": 5
}
